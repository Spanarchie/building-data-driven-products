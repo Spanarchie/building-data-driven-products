{
 "cells": [
  {
   "cell_type": "code",
   "execution_count": null,
   "metadata": {},
   "outputs": [],
   "source": [
    "import numpy as np\n",
    "import pandas as pd\n",
    "import seaborn as sns\n",
    "\n",
    "from collections import Counter\n",
    "from pydocumentdb import document_client\n",
    "from scipy.stats import spearmanr\n",
    "\n",
    "%matplotlib inline"
   ]
  },
  {
   "cell_type": "markdown",
   "metadata": {},
   "source": [
    "# Data loading"
   ]
  },
  {
   "cell_type": "markdown",
   "metadata": {},
   "source": [
    "Define Cosmos DB credentials."
   ]
  },
  {
   "cell_type": "code",
   "execution_count": null,
   "metadata": {},
   "outputs": [],
   "source": [
    "COSMOSDB_ENDPOINT = '<Your Cosmos DB endpoint>'\n",
    "COSMOSDB_KEY = '<Your Cosmos DB \"primaryMasterKey\">'"
   ]
  },
  {
   "cell_type": "markdown",
   "metadata": {},
   "source": [
    "Create a Cosmos DB client, select our database and collection, and define a function to run queries on the latter."
   ]
  },
  {
   "cell_type": "code",
   "execution_count": null,
   "metadata": {},
   "outputs": [],
   "source": [
    "client = document_client.DocumentClient(COSMOSDB_ENDPOINT, {'masterKey': COSMOSDB_KEY})\n",
    "db = next(x for x in client.ReadDatabases() if x['id'] == 'ted')\n",
    "coll = next(x for x in client.ReadCollections(db['_self']) if x['id'] == 'talks')\n",
    "query_talks = lambda q: list(client.QueryDocuments(coll['_self'], {'query': q}))"
   ]
  },
  {
   "cell_type": "markdown",
   "metadata": {},
   "source": [
    "Select the most recently published talk.\n",
    "\n",
    "**Note**: Cosmos DB uses its own [SQL dialect](https://docs.microsoft.com/en-us/azure/cosmos-db/sql-api-sql-query), which you can test out using the [Query Playground](https://www.documentdb.com/sql/demo)."
   ]
  },
  {
   "cell_type": "code",
   "execution_count": null,
   "metadata": {},
   "outputs": [],
   "source": [
    "query_talks('SELECT TOP 1 * FROM talks t ORDER BY t.published_at DESC')"
   ]
  },
  {
   "cell_type": "markdown",
   "metadata": {},
   "source": [
    "Extract all the talks and create a `DataFrame`."
   ]
  },
  {
   "cell_type": "code",
   "execution_count": null,
   "metadata": {},
   "outputs": [],
   "source": [
    "all_talks = query_talks('SELECT * FROM talks t')\n",
    "talks_df = pd.DataFrame(all_talks)"
   ]
  },
  {
   "cell_type": "code",
   "execution_count": null,
   "metadata": {},
   "outputs": [],
   "source": [
    "talks_df.head()"
   ]
  },
  {
   "cell_type": "markdown",
   "metadata": {},
   "source": [
    "# Data cleaning"
   ]
  },
  {
   "cell_type": "markdown",
   "metadata": {},
   "source": [
    "Create a new variable `scraped_at` from the Cosmos DB `_ts` attribute."
   ]
  },
  {
   "cell_type": "code",
   "execution_count": null,
   "metadata": {},
   "outputs": [],
   "source": [
    "talks_df['scraped_at'] = pd.to_datetime(talks_df['_ts'], unit='s')"
   ]
  },
  {
   "cell_type": "markdown",
   "metadata": {},
   "source": [
    "Get rid of Cosmos DB attributes."
   ]
  },
  {
   "cell_type": "code",
   "execution_count": null,
   "metadata": {},
   "outputs": [],
   "source": [
    "talks_df.drop(columns=['_attachments', '_etag', '_rid', '_self', '_ts'], inplace=True)"
   ]
  },
  {
   "cell_type": "markdown",
   "metadata": {},
   "source": [
    "Fix data types for `filmed_at` and `published_at`."
   ]
  },
  {
   "cell_type": "code",
   "execution_count": null,
   "metadata": {},
   "outputs": [],
   "source": [
    "talks_df['filmed_at'] = pd.to_datetime(talks_df['filmed_at'], unit='s')\n",
    "talks_df['published_at'] = pd.to_datetime(talks_df['published_at'], unit='s')"
   ]
  },
  {
   "cell_type": "markdown",
   "metadata": {},
   "source": [
    "Convert `duration` to minutes."
   ]
  },
  {
   "cell_type": "code",
   "execution_count": null,
   "metadata": {},
   "outputs": [],
   "source": [
    "talks_df['duration'] /= 60"
   ]
  },
  {
   "cell_type": "markdown",
   "metadata": {},
   "source": [
    "Check sanity of values."
   ]
  },
  {
   "cell_type": "code",
   "execution_count": null,
   "metadata": {},
   "outputs": [],
   "source": [
    "talks_df.describe(exclude='object')"
   ]
  },
  {
   "cell_type": "code",
   "execution_count": null,
   "metadata": {},
   "outputs": [],
   "source": [
    "talks_df.sort_values('filmed_at')"
   ]
  },
  {
   "cell_type": "markdown",
   "metadata": {},
   "source": [
    "Create a few more variables."
   ]
  },
  {
   "cell_type": "code",
   "execution_count": null,
   "metadata": {},
   "outputs": [],
   "source": [
    "talks_df['external_links_count'] = talks_df['external_links'].apply(len)\n",
    "talks_df['speakers_count'] = talks_df['speakers'].apply(len)\n",
    "talks_df['tags_count'] = talks_df['tags'].apply(len)\n",
    "talks_df['publishing_delay'] = (talks_df['published_at'] - talks_df['filmed_at']) / np.timedelta64(1, 'D')\n",
    "talks_df['total_ratings'] = talks_df['ratings'].apply(lambda x: sum(x.values()))\n",
    "talks_df['views_per_day'] = talks_df['viewed'] / \\\n",
    "                            ((talks_df['scraped_at'] - talks_df['published_at']) / np.timedelta64(1, 'D'))"
   ]
  },
  {
   "cell_type": "markdown",
   "metadata": {},
   "source": [
    "Extract `ratings` into separate variables."
   ]
  },
  {
   "cell_type": "code",
   "execution_count": null,
   "metadata": {},
   "outputs": [],
   "source": [
    "rating_names = {name for names in talks_df['ratings'] for name in names}"
   ]
  },
  {
   "cell_type": "code",
   "execution_count": null,
   "metadata": {},
   "outputs": [],
   "source": [
    "rating_names"
   ]
  },
  {
   "cell_type": "code",
   "execution_count": null,
   "metadata": {},
   "outputs": [],
   "source": [
    "for rating_name in rating_names:\n",
    "    talks_df['rated_' + rating_name.lower()] = talks_df['ratings'].apply(lambda x: x.get(rating_name, 0)) / \\\n",
    "                                               talks_df['total_ratings']"
   ]
  },
  {
   "cell_type": "markdown",
   "metadata": {},
   "source": [
    "Create dummy variables for the most common `tags` (present in ≥ 5% of the talks)."
   ]
  },
  {
   "cell_type": "code",
   "execution_count": null,
   "metadata": {},
   "outputs": [],
   "source": [
    "all_tags = Counter(tag for tags in talks_df['tags'] for tag in tags)\n",
    "frequent_tags = {tag for tag, count in all_tags.items() if count >= 0.05 * len(talks_df)}"
   ]
  },
  {
   "cell_type": "code",
   "execution_count": null,
   "metadata": {},
   "outputs": [],
   "source": [
    "frequent_tags"
   ]
  },
  {
   "cell_type": "code",
   "execution_count": null,
   "metadata": {},
   "outputs": [],
   "source": [
    "for tag in frequent_tags:\n",
    "    talks_df['tagged_' + tag.lower().replace(' ', '_')] = talks_df['tags'].apply(lambda x: tag in x).astype(int)"
   ]
  },
  {
   "cell_type": "code",
   "execution_count": null,
   "metadata": {},
   "outputs": [],
   "source": [
    "talks_df.head()"
   ]
  },
  {
   "cell_type": "code",
   "execution_count": null,
   "metadata": {},
   "outputs": [],
   "source": [
    "talks_df.dtypes"
   ]
  },
  {
   "cell_type": "markdown",
   "metadata": {},
   "source": [
    "# Exploratory data analysis"
   ]
  },
  {
   "cell_type": "markdown",
   "metadata": {},
   "source": [
    "## Distribution of talk duration"
   ]
  },
  {
   "cell_type": "code",
   "execution_count": null,
   "metadata": {},
   "outputs": [],
   "source": [
    "sns.distplot(talks_df['duration'], color='darkblue')  # In minutes"
   ]
  },
  {
   "cell_type": "markdown",
   "metadata": {},
   "source": [
    "## Top 20 events by number of talks"
   ]
  },
  {
   "cell_type": "code",
   "execution_count": null,
   "metadata": {},
   "outputs": [],
   "source": [
    "talks_df['event'].value_counts().head(20).plot.bar(color='darkblue')"
   ]
  },
  {
   "cell_type": "markdown",
   "metadata": {},
   "source": [
    "## Number of external links\n",
    "\n",
    "**Note**: the rightmost bar is for 10+ links."
   ]
  },
  {
   "cell_type": "code",
   "execution_count": null,
   "metadata": {},
   "outputs": [],
   "source": [
    "pd.cut(talks_df['external_links_count'],\n",
    "       bins=list(range(11)) + [np.inf],\n",
    "       labels=False,\n",
    "       include_lowest=True).value_counts().sort_index().plot.bar(color='darkblue')"
   ]
  },
  {
   "cell_type": "markdown",
   "metadata": {},
   "source": [
    "## Talks filmed by year"
   ]
  },
  {
   "cell_type": "code",
   "execution_count": null,
   "metadata": {},
   "outputs": [],
   "source": [
    "talks_df.set_index('filmed_at') \\\n",
    "    .resample('Y')['id'] \\\n",
    "    .count() \\\n",
    "    .plot.line(color='darkblue')"
   ]
  },
  {
   "cell_type": "markdown",
   "metadata": {},
   "source": [
    "Excluding very old talks."
   ]
  },
  {
   "cell_type": "code",
   "execution_count": null,
   "metadata": {},
   "outputs": [],
   "source": [
    "talks_df[talks_df['filmed_at'] >= '2000'] \\\n",
    "    .set_index('filmed_at') \\\n",
    "    .resample('Y')['id'].count() \\\n",
    "    .plot.line(color='darkblue')"
   ]
  },
  {
   "cell_type": "markdown",
   "metadata": {},
   "source": [
    "## Distribution of publishing delay"
   ]
  },
  {
   "cell_type": "code",
   "execution_count": null,
   "metadata": {},
   "outputs": [],
   "source": [
    "sns.distplot(talks_df['publishing_delay'], color='darkblue')"
   ]
  },
  {
   "cell_type": "markdown",
   "metadata": {},
   "source": [
    "Excluding very old talks."
   ]
  },
  {
   "cell_type": "code",
   "execution_count": null,
   "metadata": {},
   "outputs": [],
   "source": [
    "sns.distplot(talks_df[talks_df['filmed_at'] >= '2000']['publishing_delay'], color='darkblue')"
   ]
  },
  {
   "cell_type": "markdown",
   "metadata": {},
   "source": [
    "## Number of ratings"
   ]
  },
  {
   "cell_type": "code",
   "execution_count": null,
   "metadata": {},
   "outputs": [],
   "source": [
    "talks_df['total_ratings'].describe()"
   ]
  },
  {
   "cell_type": "code",
   "execution_count": null,
   "metadata": {},
   "outputs": [],
   "source": [
    "sns.distplot(np.log10(talks_df['total_ratings']), color='darkblue')"
   ]
  },
  {
   "cell_type": "markdown",
   "metadata": {},
   "source": [
    "## Number of speakers"
   ]
  },
  {
   "cell_type": "code",
   "execution_count": null,
   "metadata": {},
   "outputs": [],
   "source": [
    "talks_df['speakers_count'].value_counts().sort_index().plot.bar(color='darkblue')"
   ]
  },
  {
   "cell_type": "markdown",
   "metadata": {},
   "source": [
    "## Number of tags\n",
    "\n",
    "**Note**: the rightmost bar is for 20+ tags."
   ]
  },
  {
   "cell_type": "code",
   "execution_count": null,
   "metadata": {},
   "outputs": [],
   "source": [
    "pd.cut(talks_df['tags_count'],\n",
    "       bins=list(range(21)) + [np.inf],\n",
    "       labels=False,\n",
    "       include_lowest=True).value_counts().sort_index().plot.bar(color='darkblue')"
   ]
  },
  {
   "cell_type": "markdown",
   "metadata": {},
   "source": [
    "## Distribution of views and views/day"
   ]
  },
  {
   "cell_type": "code",
   "execution_count": null,
   "metadata": {},
   "outputs": [],
   "source": [
    "sns.distplot(np.log10(talks_df['viewed']), color='darkblue')"
   ]
  },
  {
   "cell_type": "code",
   "execution_count": null,
   "metadata": {},
   "outputs": [],
   "source": [
    "sns.distplot(np.log10(talks_df['views_per_day']), color='darkblue')"
   ]
  },
  {
   "cell_type": "markdown",
   "metadata": {},
   "source": [
    "## Spearman correlations with views/day"
   ]
  },
  {
   "cell_type": "code",
   "execution_count": null,
   "metadata": {},
   "outputs": [],
   "source": [
    "columns = talks_df.select_dtypes(exclude=['datetime', 'object']).columns\n",
    "rating_corr = pd.DataFrame({\n",
    "    'variable': columns,\n",
    "    'r': [spearmanr(talks_df[x], talks_df['views_per_day']).correlation for x in columns],\n",
    "}).sort_values('r')"
   ]
  },
  {
   "cell_type": "code",
   "execution_count": null,
   "metadata": {},
   "outputs": [],
   "source": [
    "rating_corr[np.abs(rating_corr['r']) > 0.1]"
   ]
  }
 ],
 "metadata": {
  "kernelspec": {
   "display_name": "Python 3",
   "language": "python",
   "name": "python3"
  },
  "language_info": {
   "codemirror_mode": {
    "name": "ipython",
    "version": 3
   },
   "file_extension": ".py",
   "mimetype": "text/x-python",
   "name": "python",
   "nbconvert_exporter": "python",
   "pygments_lexer": "ipython3",
   "version": "3.6.4"
  }
 },
 "nbformat": 4,
 "nbformat_minor": 2
}
